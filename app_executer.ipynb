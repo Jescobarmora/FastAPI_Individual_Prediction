{
 "cells": [
  {
   "cell_type": "code",
   "execution_count": 1,
   "metadata": {},
   "outputs": [
    {
     "name": "stdout",
     "output_type": "stream",
     "text": [
      "HTTP 200 OK\n",
      "Content-Type: application/json\n",
      "\n",
      "{'Email': 'djohnson@hotmail.com', 'Prediction': 487.1934459775448}\n"
     ]
    }
   ],
   "source": [
    "import requests\n",
    "import json\n",
    "\n",
    "# URL de la API\n",
    "url = 'http://127.0.0.1:8000/predict'\n",
    "\n",
    "# Datos de ejemplo (los reales los proporcionarás al momento de uso)\n",
    "data = {\n",
    "    \"Email\": \"djohnson@hotmail.com\",\n",
    "    \"Address\": \"Munich\",\n",
    "    \"Dominio\": \"hotmail\",\n",
    "    \"Tecnologia\": \"Smartphone\",\n",
    "    \"Avg_Session_Length\": 32.19249882778649,\n",
    "    \"Time_on_App\": 13.32541218598226,\n",
    "    \"Time_on_Website\": 36.897294609068695,\n",
    "    \"Length_of_Membership\": 5.0499274746524065\n",
    "}\n",
    "\n",
    "# Hacer la solicitud POST\n",
    "headers = {\"Content-Type\": \"application/json\"}\n",
    "response = requests.post(url, data=json.dumps(data), headers=headers)\n",
    "\n",
    "# Verificar el código de estado y la respuesta\n",
    "if response.status_code == 200:\n",
    "    print(f\"HTTP {response.status_code} OK\\nContent-Type: application/json\\n\\n{response.json()}\")\n",
    "else:\n",
    "    print(\"Error en la solicitud:\", response.text)"
   ]
  }
 ],
 "metadata": {
  "kernelspec": {
   "display_name": "api_class",
   "language": "python",
   "name": "python3"
  },
  "language_info": {
   "codemirror_mode": {
    "name": "ipython",
    "version": 3
   },
   "file_extension": ".py",
   "mimetype": "text/x-python",
   "name": "python",
   "nbconvert_exporter": "python",
   "pygments_lexer": "ipython3",
   "version": "3.10.12"
  }
 },
 "nbformat": 4,
 "nbformat_minor": 2
}
